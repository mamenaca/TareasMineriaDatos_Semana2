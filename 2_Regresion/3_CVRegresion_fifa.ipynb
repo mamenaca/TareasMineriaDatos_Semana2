{
  "nbformat": 4,
  "nbformat_minor": 0,
  "metadata": {
    "colab": {
      "name": "ej_mainfifa.ipynb",
      "provenance": [],
      "include_colab_link": true
    },
    "kernelspec": {
      "name": "python3",
      "display_name": "Python 3"
    }
  },
  "cells": [
    {
      "cell_type": "markdown",
      "metadata": {
        "id": "view-in-github",
        "colab_type": "text"
      },
      "source": [
        "<a href=\"https://colab.research.google.com/github/mamenaca/TareasMineriaDatos_Semana2/blob/main/2_Regresion/3_CVRegresion_fifa.ipynb\" target=\"_parent\"><img src=\"https://colab.research.google.com/assets/colab-badge.svg\" alt=\"Open In Colab\"/></a>"
      ]
    },
    {
      "cell_type": "markdown",
      "metadata": {
        "id": "xpUmgSg5-Hpc"
      },
      "source": [
        "# Ejemplo completo para un problema de regresión usando sci-kitlearn\n",
        "\n",
        "El siguiente ejemplo presenta las etapas básicas de un proyecto de analítica de datos en una tarea de regresión, orientadas a:\n",
        "\n",
        "- Preproceso de atributos con campos vacios y tipo texto.\n",
        "- Entrenamiento y selección de un modelo de regresión bajo una estrategia de validación cruzada.\n",
        "- La utilización de diccionarios para la sintonización de hiperparámetros.\n",
        "-Se ilustra también la creación de clases (objetos) propios compatibles con la clase pipeline de sci-kitlearn.\n",
        "\n",
        "**Base de datos utilizada**: [FIFA 2019 - Kaggle](https://www.kaggle.com/karangadiya/fifa19)."
      ]
    },
    {
      "cell_type": "code",
      "metadata": {
        "id": "qZl3COcadq8T",
        "colab": {
          "base_uri": "https://localhost:8080/"
        },
        "outputId": "9094b036-79a2-4a05-aa5c-d70450e6f248"
      },
      "source": [
        "#cargar datos desde drive acceso libre\n",
        "FILEID = \"15QxsIm_jMfHEy6Y--6o19IWgr66oiTRe\"\n",
        "!wget --load-cookies /tmp/cookies.txt \"https://docs.google.com/uc?export=download&confirm=$(wget --quiet --save-cookies /tmp/cookies.txt --keep-session-cookies --no-check-certificate 'https://docs.google.com/uc?export=download&id='$FILEID -O- | sed -rn 's/.*confirm=([0-9A-Za-z_]+).*/\\1\\n/p')&id=\"$FILEID -O codigos.zip && rm -rf /tmp/cookies.txt\n",
        "!unzip codigos.zip\n",
        "!dir"
      ],
      "execution_count": 19,
      "outputs": [
        {
          "output_type": "stream",
          "name": "stdout",
          "text": [
            "--2021-11-19 03:28:13--  https://docs.google.com/uc?export=download&confirm=&id=15QxsIm_jMfHEy6Y--6o19IWgr66oiTRe\n",
            "Resolving docs.google.com (docs.google.com)... 142.250.157.138, 142.250.157.113, 142.250.157.101, ...\n",
            "Connecting to docs.google.com (docs.google.com)|142.250.157.138|:443... connected.\n",
            "HTTP request sent, awaiting response... 302 Moved Temporarily\n",
            "Location: https://doc-0g-1s-docs.googleusercontent.com/docs/securesc/lh8v3caru91vh64c2347ue8gjnbo6f80/m53khuofvs2upp683bc423jj2c08kads/1637292450000/09173029842254050324/13840283621075572295Z/15QxsIm_jMfHEy6Y--6o19IWgr66oiTRe?e=download [following]\n",
            "--2021-11-19 03:28:15--  https://doc-0g-1s-docs.googleusercontent.com/docs/securesc/lh8v3caru91vh64c2347ue8gjnbo6f80/m53khuofvs2upp683bc423jj2c08kads/1637292450000/09173029842254050324/13840283621075572295Z/15QxsIm_jMfHEy6Y--6o19IWgr66oiTRe?e=download\n",
            "Resolving doc-0g-1s-docs.googleusercontent.com (doc-0g-1s-docs.googleusercontent.com)... 74.125.23.132, 2404:6800:4008:c02::84\n",
            "Connecting to doc-0g-1s-docs.googleusercontent.com (doc-0g-1s-docs.googleusercontent.com)|74.125.23.132|:443... connected.\n",
            "HTTP request sent, awaiting response... 302 Found\n",
            "Location: https://docs.google.com/nonceSigner?nonce=frqsepf73revq&continue=https://doc-0g-1s-docs.googleusercontent.com/docs/securesc/lh8v3caru91vh64c2347ue8gjnbo6f80/m53khuofvs2upp683bc423jj2c08kads/1637292450000/09173029842254050324/13840283621075572295Z/15QxsIm_jMfHEy6Y--6o19IWgr66oiTRe?e%3Ddownload&hash=ejdqr9lle1avaijjc6ntfgca17lb746l [following]\n",
            "--2021-11-19 03:28:15--  https://docs.google.com/nonceSigner?nonce=frqsepf73revq&continue=https://doc-0g-1s-docs.googleusercontent.com/docs/securesc/lh8v3caru91vh64c2347ue8gjnbo6f80/m53khuofvs2upp683bc423jj2c08kads/1637292450000/09173029842254050324/13840283621075572295Z/15QxsIm_jMfHEy6Y--6o19IWgr66oiTRe?e%3Ddownload&hash=ejdqr9lle1avaijjc6ntfgca17lb746l\n",
            "Connecting to docs.google.com (docs.google.com)|142.250.157.138|:443... connected.\n",
            "HTTP request sent, awaiting response... 302 Found\n",
            "Location: https://doc-0g-1s-docs.googleusercontent.com/docs/securesc/lh8v3caru91vh64c2347ue8gjnbo6f80/m53khuofvs2upp683bc423jj2c08kads/1637292450000/09173029842254050324/13840283621075572295Z/15QxsIm_jMfHEy6Y--6o19IWgr66oiTRe?e=download&nonce=frqsepf73revq&user=13840283621075572295Z&hash=l3bs52ins87ggvg5mfvbroheielic4n8 [following]\n",
            "--2021-11-19 03:28:16--  https://doc-0g-1s-docs.googleusercontent.com/docs/securesc/lh8v3caru91vh64c2347ue8gjnbo6f80/m53khuofvs2upp683bc423jj2c08kads/1637292450000/09173029842254050324/13840283621075572295Z/15QxsIm_jMfHEy6Y--6o19IWgr66oiTRe?e=download&nonce=frqsepf73revq&user=13840283621075572295Z&hash=l3bs52ins87ggvg5mfvbroheielic4n8\n",
            "Connecting to doc-0g-1s-docs.googleusercontent.com (doc-0g-1s-docs.googleusercontent.com)|74.125.23.132|:443... connected.\n",
            "HTTP request sent, awaiting response... 200 OK\n",
            "Length: 4039371 (3.9M) [application/zip]\n",
            "Saving to: ‘codigos.zip’\n",
            "\n",
            "codigos.zip         100%[===================>]   3.85M  --.-KB/s    in 0.02s   \n",
            "\n",
            "2021-11-19 03:28:16 (165 MB/s) - ‘codigos.zip’ saved [4039371/4039371]\n",
            "\n",
            "Archive:  codigos.zip\n",
            "replace Main_Fifa/main_fifa.ipynb? [y]es, [n]o, [A]ll, [N]one, [r]ename: codigos.zip  Main_Fifa\tsample_data\n"
          ]
        }
      ]
    },
    {
      "cell_type": "markdown",
      "metadata": {
        "id": "ljm0SDJm-4au"
      },
      "source": [
        "# Lectura de la base de datos con Pandas"
      ]
    },
    {
      "cell_type": "code",
      "metadata": {
        "id": "5hSsJ5r4exkC",
        "colab": {
          "base_uri": "https://localhost:8080/",
          "height": 372
        },
        "outputId": "41eccc9b-7639-4f07-bd7a-5008c7bbd348"
      },
      "source": [
        "import pandas as pd\n",
        "import numpy as np\n",
        "import matplotlib.pyplot as plt\n",
        "import warnings\n",
        "warnings.filterwarnings(\"ignore\")\n",
        "\n",
        "#librerias para proceso\n",
        "from sklearn.impute import SimpleImputer \n",
        "from sklearn.preprocessing import OrdinalEncoder,OneHotEncoder\n",
        "from sklearn.model_selection import train_test_split, GridSearchCV,cross_val_score, cross_val_predict\n",
        "from sklearn.metrics import mean_absolute_error\n",
        "from sklearn.pipeline import Pipeline\n",
        "\n",
        "%matplotlib inline\n",
        "csv_path = 'Main_Fifa/datos/data.csv' #directorio de la base de datos en disco de colaboratory según archivo cargado\n",
        "\n",
        "Xdata = pd.read_csv(csv_path)#leer archivo csv\n",
        "\n",
        "col_drop = ['Unnamed: 0', 'Name','ID','Photo','Flag',\n",
        "           'Club Logo','Loaned From'] #variables a descartar - no contienen información relevante\n",
        "Xdata.drop(columns = col_drop, inplace = True)\n",
        "Xdata.head()"
      ],
      "execution_count": 20,
      "outputs": [
        {
          "output_type": "execute_result",
          "data": {
            "text/html": [
              "<div>\n",
              "<style scoped>\n",
              "    .dataframe tbody tr th:only-of-type {\n",
              "        vertical-align: middle;\n",
              "    }\n",
              "\n",
              "    .dataframe tbody tr th {\n",
              "        vertical-align: top;\n",
              "    }\n",
              "\n",
              "    .dataframe thead th {\n",
              "        text-align: right;\n",
              "    }\n",
              "</style>\n",
              "<table border=\"1\" class=\"dataframe\">\n",
              "  <thead>\n",
              "    <tr style=\"text-align: right;\">\n",
              "      <th></th>\n",
              "      <th>Age</th>\n",
              "      <th>Nationality</th>\n",
              "      <th>Overall</th>\n",
              "      <th>Potential</th>\n",
              "      <th>Club</th>\n",
              "      <th>Value</th>\n",
              "      <th>Wage</th>\n",
              "      <th>Special</th>\n",
              "      <th>Preferred Foot</th>\n",
              "      <th>International Reputation</th>\n",
              "      <th>Weak Foot</th>\n",
              "      <th>Skill Moves</th>\n",
              "      <th>Work Rate</th>\n",
              "      <th>Body Type</th>\n",
              "      <th>Real Face</th>\n",
              "      <th>Position</th>\n",
              "      <th>Jersey Number</th>\n",
              "      <th>Joined</th>\n",
              "      <th>Contract Valid Until</th>\n",
              "      <th>Height</th>\n",
              "      <th>Weight</th>\n",
              "      <th>LS</th>\n",
              "      <th>ST</th>\n",
              "      <th>RS</th>\n",
              "      <th>LW</th>\n",
              "      <th>LF</th>\n",
              "      <th>CF</th>\n",
              "      <th>RF</th>\n",
              "      <th>RW</th>\n",
              "      <th>LAM</th>\n",
              "      <th>CAM</th>\n",
              "      <th>RAM</th>\n",
              "      <th>LM</th>\n",
              "      <th>LCM</th>\n",
              "      <th>CM</th>\n",
              "      <th>RCM</th>\n",
              "      <th>RM</th>\n",
              "      <th>LWB</th>\n",
              "      <th>LDM</th>\n",
              "      <th>CDM</th>\n",
              "      <th>...</th>\n",
              "      <th>LB</th>\n",
              "      <th>LCB</th>\n",
              "      <th>CB</th>\n",
              "      <th>RCB</th>\n",
              "      <th>RB</th>\n",
              "      <th>Crossing</th>\n",
              "      <th>Finishing</th>\n",
              "      <th>HeadingAccuracy</th>\n",
              "      <th>ShortPassing</th>\n",
              "      <th>Volleys</th>\n",
              "      <th>Dribbling</th>\n",
              "      <th>Curve</th>\n",
              "      <th>FKAccuracy</th>\n",
              "      <th>LongPassing</th>\n",
              "      <th>BallControl</th>\n",
              "      <th>Acceleration</th>\n",
              "      <th>SprintSpeed</th>\n",
              "      <th>Agility</th>\n",
              "      <th>Reactions</th>\n",
              "      <th>Balance</th>\n",
              "      <th>ShotPower</th>\n",
              "      <th>Jumping</th>\n",
              "      <th>Stamina</th>\n",
              "      <th>Strength</th>\n",
              "      <th>LongShots</th>\n",
              "      <th>Aggression</th>\n",
              "      <th>Interceptions</th>\n",
              "      <th>Positioning</th>\n",
              "      <th>Vision</th>\n",
              "      <th>Penalties</th>\n",
              "      <th>Composure</th>\n",
              "      <th>Marking</th>\n",
              "      <th>StandingTackle</th>\n",
              "      <th>SlidingTackle</th>\n",
              "      <th>GKDiving</th>\n",
              "      <th>GKHandling</th>\n",
              "      <th>GKKicking</th>\n",
              "      <th>GKPositioning</th>\n",
              "      <th>GKReflexes</th>\n",
              "      <th>Release Clause</th>\n",
              "    </tr>\n",
              "  </thead>\n",
              "  <tbody>\n",
              "    <tr>\n",
              "      <th>0</th>\n",
              "      <td>31</td>\n",
              "      <td>Argentina</td>\n",
              "      <td>94</td>\n",
              "      <td>94</td>\n",
              "      <td>FC Barcelona</td>\n",
              "      <td>€110.5M</td>\n",
              "      <td>€565K</td>\n",
              "      <td>2202</td>\n",
              "      <td>Left</td>\n",
              "      <td>5.0</td>\n",
              "      <td>4.0</td>\n",
              "      <td>4.0</td>\n",
              "      <td>Medium/ Medium</td>\n",
              "      <td>Messi</td>\n",
              "      <td>Yes</td>\n",
              "      <td>RF</td>\n",
              "      <td>10.0</td>\n",
              "      <td>7/1/2004</td>\n",
              "      <td>2021</td>\n",
              "      <td>5'7</td>\n",
              "      <td>159lbs</td>\n",
              "      <td>88+2</td>\n",
              "      <td>88+2</td>\n",
              "      <td>88+2</td>\n",
              "      <td>92+2</td>\n",
              "      <td>93+2</td>\n",
              "      <td>93+2</td>\n",
              "      <td>93+2</td>\n",
              "      <td>92+2</td>\n",
              "      <td>93+2</td>\n",
              "      <td>93+2</td>\n",
              "      <td>93+2</td>\n",
              "      <td>91+2</td>\n",
              "      <td>84+2</td>\n",
              "      <td>84+2</td>\n",
              "      <td>84+2</td>\n",
              "      <td>91+2</td>\n",
              "      <td>64+2</td>\n",
              "      <td>61+2</td>\n",
              "      <td>61+2</td>\n",
              "      <td>...</td>\n",
              "      <td>59+2</td>\n",
              "      <td>47+2</td>\n",
              "      <td>47+2</td>\n",
              "      <td>47+2</td>\n",
              "      <td>59+2</td>\n",
              "      <td>84.0</td>\n",
              "      <td>95.0</td>\n",
              "      <td>70.0</td>\n",
              "      <td>90.0</td>\n",
              "      <td>86.0</td>\n",
              "      <td>97.0</td>\n",
              "      <td>93.0</td>\n",
              "      <td>94.0</td>\n",
              "      <td>87.0</td>\n",
              "      <td>96.0</td>\n",
              "      <td>91.0</td>\n",
              "      <td>86.0</td>\n",
              "      <td>91.0</td>\n",
              "      <td>95.0</td>\n",
              "      <td>95.0</td>\n",
              "      <td>85.0</td>\n",
              "      <td>68.0</td>\n",
              "      <td>72.0</td>\n",
              "      <td>59.0</td>\n",
              "      <td>94.0</td>\n",
              "      <td>48.0</td>\n",
              "      <td>22.0</td>\n",
              "      <td>94.0</td>\n",
              "      <td>94.0</td>\n",
              "      <td>75.0</td>\n",
              "      <td>96.0</td>\n",
              "      <td>33.0</td>\n",
              "      <td>28.0</td>\n",
              "      <td>26.0</td>\n",
              "      <td>6.0</td>\n",
              "      <td>11.0</td>\n",
              "      <td>15.0</td>\n",
              "      <td>14.0</td>\n",
              "      <td>8.0</td>\n",
              "      <td>€226.5M</td>\n",
              "    </tr>\n",
              "    <tr>\n",
              "      <th>1</th>\n",
              "      <td>33</td>\n",
              "      <td>Portugal</td>\n",
              "      <td>94</td>\n",
              "      <td>94</td>\n",
              "      <td>Juventus</td>\n",
              "      <td>€77M</td>\n",
              "      <td>€405K</td>\n",
              "      <td>2228</td>\n",
              "      <td>Right</td>\n",
              "      <td>5.0</td>\n",
              "      <td>4.0</td>\n",
              "      <td>5.0</td>\n",
              "      <td>High/ Low</td>\n",
              "      <td>C. Ronaldo</td>\n",
              "      <td>Yes</td>\n",
              "      <td>ST</td>\n",
              "      <td>7.0</td>\n",
              "      <td>7/10/2018</td>\n",
              "      <td>2022</td>\n",
              "      <td>6'2</td>\n",
              "      <td>183lbs</td>\n",
              "      <td>91+3</td>\n",
              "      <td>91+3</td>\n",
              "      <td>91+3</td>\n",
              "      <td>89+3</td>\n",
              "      <td>90+3</td>\n",
              "      <td>90+3</td>\n",
              "      <td>90+3</td>\n",
              "      <td>89+3</td>\n",
              "      <td>88+3</td>\n",
              "      <td>88+3</td>\n",
              "      <td>88+3</td>\n",
              "      <td>88+3</td>\n",
              "      <td>81+3</td>\n",
              "      <td>81+3</td>\n",
              "      <td>81+3</td>\n",
              "      <td>88+3</td>\n",
              "      <td>65+3</td>\n",
              "      <td>61+3</td>\n",
              "      <td>61+3</td>\n",
              "      <td>...</td>\n",
              "      <td>61+3</td>\n",
              "      <td>53+3</td>\n",
              "      <td>53+3</td>\n",
              "      <td>53+3</td>\n",
              "      <td>61+3</td>\n",
              "      <td>84.0</td>\n",
              "      <td>94.0</td>\n",
              "      <td>89.0</td>\n",
              "      <td>81.0</td>\n",
              "      <td>87.0</td>\n",
              "      <td>88.0</td>\n",
              "      <td>81.0</td>\n",
              "      <td>76.0</td>\n",
              "      <td>77.0</td>\n",
              "      <td>94.0</td>\n",
              "      <td>89.0</td>\n",
              "      <td>91.0</td>\n",
              "      <td>87.0</td>\n",
              "      <td>96.0</td>\n",
              "      <td>70.0</td>\n",
              "      <td>95.0</td>\n",
              "      <td>95.0</td>\n",
              "      <td>88.0</td>\n",
              "      <td>79.0</td>\n",
              "      <td>93.0</td>\n",
              "      <td>63.0</td>\n",
              "      <td>29.0</td>\n",
              "      <td>95.0</td>\n",
              "      <td>82.0</td>\n",
              "      <td>85.0</td>\n",
              "      <td>95.0</td>\n",
              "      <td>28.0</td>\n",
              "      <td>31.0</td>\n",
              "      <td>23.0</td>\n",
              "      <td>7.0</td>\n",
              "      <td>11.0</td>\n",
              "      <td>15.0</td>\n",
              "      <td>14.0</td>\n",
              "      <td>11.0</td>\n",
              "      <td>€127.1M</td>\n",
              "    </tr>\n",
              "    <tr>\n",
              "      <th>2</th>\n",
              "      <td>26</td>\n",
              "      <td>Brazil</td>\n",
              "      <td>92</td>\n",
              "      <td>93</td>\n",
              "      <td>Paris Saint-Germain</td>\n",
              "      <td>€118.5M</td>\n",
              "      <td>€290K</td>\n",
              "      <td>2143</td>\n",
              "      <td>Right</td>\n",
              "      <td>5.0</td>\n",
              "      <td>5.0</td>\n",
              "      <td>5.0</td>\n",
              "      <td>High/ Medium</td>\n",
              "      <td>Neymar</td>\n",
              "      <td>Yes</td>\n",
              "      <td>LW</td>\n",
              "      <td>10.0</td>\n",
              "      <td>8/3/2017</td>\n",
              "      <td>2022</td>\n",
              "      <td>5'9</td>\n",
              "      <td>150lbs</td>\n",
              "      <td>84+3</td>\n",
              "      <td>84+3</td>\n",
              "      <td>84+3</td>\n",
              "      <td>89+3</td>\n",
              "      <td>89+3</td>\n",
              "      <td>89+3</td>\n",
              "      <td>89+3</td>\n",
              "      <td>89+3</td>\n",
              "      <td>89+3</td>\n",
              "      <td>89+3</td>\n",
              "      <td>89+3</td>\n",
              "      <td>88+3</td>\n",
              "      <td>81+3</td>\n",
              "      <td>81+3</td>\n",
              "      <td>81+3</td>\n",
              "      <td>88+3</td>\n",
              "      <td>65+3</td>\n",
              "      <td>60+3</td>\n",
              "      <td>60+3</td>\n",
              "      <td>...</td>\n",
              "      <td>60+3</td>\n",
              "      <td>47+3</td>\n",
              "      <td>47+3</td>\n",
              "      <td>47+3</td>\n",
              "      <td>60+3</td>\n",
              "      <td>79.0</td>\n",
              "      <td>87.0</td>\n",
              "      <td>62.0</td>\n",
              "      <td>84.0</td>\n",
              "      <td>84.0</td>\n",
              "      <td>96.0</td>\n",
              "      <td>88.0</td>\n",
              "      <td>87.0</td>\n",
              "      <td>78.0</td>\n",
              "      <td>95.0</td>\n",
              "      <td>94.0</td>\n",
              "      <td>90.0</td>\n",
              "      <td>96.0</td>\n",
              "      <td>94.0</td>\n",
              "      <td>84.0</td>\n",
              "      <td>80.0</td>\n",
              "      <td>61.0</td>\n",
              "      <td>81.0</td>\n",
              "      <td>49.0</td>\n",
              "      <td>82.0</td>\n",
              "      <td>56.0</td>\n",
              "      <td>36.0</td>\n",
              "      <td>89.0</td>\n",
              "      <td>87.0</td>\n",
              "      <td>81.0</td>\n",
              "      <td>94.0</td>\n",
              "      <td>27.0</td>\n",
              "      <td>24.0</td>\n",
              "      <td>33.0</td>\n",
              "      <td>9.0</td>\n",
              "      <td>9.0</td>\n",
              "      <td>15.0</td>\n",
              "      <td>15.0</td>\n",
              "      <td>11.0</td>\n",
              "      <td>€228.1M</td>\n",
              "    </tr>\n",
              "    <tr>\n",
              "      <th>3</th>\n",
              "      <td>27</td>\n",
              "      <td>Spain</td>\n",
              "      <td>91</td>\n",
              "      <td>93</td>\n",
              "      <td>Manchester United</td>\n",
              "      <td>€72M</td>\n",
              "      <td>€260K</td>\n",
              "      <td>1471</td>\n",
              "      <td>Right</td>\n",
              "      <td>4.0</td>\n",
              "      <td>3.0</td>\n",
              "      <td>1.0</td>\n",
              "      <td>Medium/ Medium</td>\n",
              "      <td>Lean</td>\n",
              "      <td>Yes</td>\n",
              "      <td>GK</td>\n",
              "      <td>1.0</td>\n",
              "      <td>7/1/2011</td>\n",
              "      <td>2020</td>\n",
              "      <td>6'4</td>\n",
              "      <td>168lbs</td>\n",
              "      <td>NaN</td>\n",
              "      <td>NaN</td>\n",
              "      <td>NaN</td>\n",
              "      <td>NaN</td>\n",
              "      <td>NaN</td>\n",
              "      <td>NaN</td>\n",
              "      <td>NaN</td>\n",
              "      <td>NaN</td>\n",
              "      <td>NaN</td>\n",
              "      <td>NaN</td>\n",
              "      <td>NaN</td>\n",
              "      <td>NaN</td>\n",
              "      <td>NaN</td>\n",
              "      <td>NaN</td>\n",
              "      <td>NaN</td>\n",
              "      <td>NaN</td>\n",
              "      <td>NaN</td>\n",
              "      <td>NaN</td>\n",
              "      <td>NaN</td>\n",
              "      <td>...</td>\n",
              "      <td>NaN</td>\n",
              "      <td>NaN</td>\n",
              "      <td>NaN</td>\n",
              "      <td>NaN</td>\n",
              "      <td>NaN</td>\n",
              "      <td>17.0</td>\n",
              "      <td>13.0</td>\n",
              "      <td>21.0</td>\n",
              "      <td>50.0</td>\n",
              "      <td>13.0</td>\n",
              "      <td>18.0</td>\n",
              "      <td>21.0</td>\n",
              "      <td>19.0</td>\n",
              "      <td>51.0</td>\n",
              "      <td>42.0</td>\n",
              "      <td>57.0</td>\n",
              "      <td>58.0</td>\n",
              "      <td>60.0</td>\n",
              "      <td>90.0</td>\n",
              "      <td>43.0</td>\n",
              "      <td>31.0</td>\n",
              "      <td>67.0</td>\n",
              "      <td>43.0</td>\n",
              "      <td>64.0</td>\n",
              "      <td>12.0</td>\n",
              "      <td>38.0</td>\n",
              "      <td>30.0</td>\n",
              "      <td>12.0</td>\n",
              "      <td>68.0</td>\n",
              "      <td>40.0</td>\n",
              "      <td>68.0</td>\n",
              "      <td>15.0</td>\n",
              "      <td>21.0</td>\n",
              "      <td>13.0</td>\n",
              "      <td>90.0</td>\n",
              "      <td>85.0</td>\n",
              "      <td>87.0</td>\n",
              "      <td>88.0</td>\n",
              "      <td>94.0</td>\n",
              "      <td>€138.6M</td>\n",
              "    </tr>\n",
              "    <tr>\n",
              "      <th>4</th>\n",
              "      <td>27</td>\n",
              "      <td>Belgium</td>\n",
              "      <td>91</td>\n",
              "      <td>92</td>\n",
              "      <td>Manchester City</td>\n",
              "      <td>€102M</td>\n",
              "      <td>€355K</td>\n",
              "      <td>2281</td>\n",
              "      <td>Right</td>\n",
              "      <td>4.0</td>\n",
              "      <td>5.0</td>\n",
              "      <td>4.0</td>\n",
              "      <td>High/ High</td>\n",
              "      <td>Normal</td>\n",
              "      <td>Yes</td>\n",
              "      <td>RCM</td>\n",
              "      <td>7.0</td>\n",
              "      <td>8/30/2015</td>\n",
              "      <td>2023</td>\n",
              "      <td>5'11</td>\n",
              "      <td>154lbs</td>\n",
              "      <td>82+3</td>\n",
              "      <td>82+3</td>\n",
              "      <td>82+3</td>\n",
              "      <td>87+3</td>\n",
              "      <td>87+3</td>\n",
              "      <td>87+3</td>\n",
              "      <td>87+3</td>\n",
              "      <td>87+3</td>\n",
              "      <td>88+3</td>\n",
              "      <td>88+3</td>\n",
              "      <td>88+3</td>\n",
              "      <td>88+3</td>\n",
              "      <td>87+3</td>\n",
              "      <td>87+3</td>\n",
              "      <td>87+3</td>\n",
              "      <td>88+3</td>\n",
              "      <td>77+3</td>\n",
              "      <td>77+3</td>\n",
              "      <td>77+3</td>\n",
              "      <td>...</td>\n",
              "      <td>73+3</td>\n",
              "      <td>66+3</td>\n",
              "      <td>66+3</td>\n",
              "      <td>66+3</td>\n",
              "      <td>73+3</td>\n",
              "      <td>93.0</td>\n",
              "      <td>82.0</td>\n",
              "      <td>55.0</td>\n",
              "      <td>92.0</td>\n",
              "      <td>82.0</td>\n",
              "      <td>86.0</td>\n",
              "      <td>85.0</td>\n",
              "      <td>83.0</td>\n",
              "      <td>91.0</td>\n",
              "      <td>91.0</td>\n",
              "      <td>78.0</td>\n",
              "      <td>76.0</td>\n",
              "      <td>79.0</td>\n",
              "      <td>91.0</td>\n",
              "      <td>77.0</td>\n",
              "      <td>91.0</td>\n",
              "      <td>63.0</td>\n",
              "      <td>90.0</td>\n",
              "      <td>75.0</td>\n",
              "      <td>91.0</td>\n",
              "      <td>76.0</td>\n",
              "      <td>61.0</td>\n",
              "      <td>87.0</td>\n",
              "      <td>94.0</td>\n",
              "      <td>79.0</td>\n",
              "      <td>88.0</td>\n",
              "      <td>68.0</td>\n",
              "      <td>58.0</td>\n",
              "      <td>51.0</td>\n",
              "      <td>15.0</td>\n",
              "      <td>13.0</td>\n",
              "      <td>5.0</td>\n",
              "      <td>10.0</td>\n",
              "      <td>13.0</td>\n",
              "      <td>€196.4M</td>\n",
              "    </tr>\n",
              "  </tbody>\n",
              "</table>\n",
              "<p>5 rows × 82 columns</p>\n",
              "</div>"
            ],
            "text/plain": [
              "   Age Nationality  Overall  ...  GKPositioning GKReflexes Release Clause\n",
              "0   31   Argentina       94  ...           14.0        8.0        €226.5M\n",
              "1   33    Portugal       94  ...           14.0       11.0        €127.1M\n",
              "2   26      Brazil       92  ...           15.0       11.0        €228.1M\n",
              "3   27       Spain       91  ...           88.0       94.0        €138.6M\n",
              "4   27     Belgium       91  ...           10.0       13.0        €196.4M\n",
              "\n",
              "[5 rows x 82 columns]"
            ]
          },
          "metadata": {},
          "execution_count": 20
        }
      ]
    },
    {
      "cell_type": "markdown",
      "metadata": {
        "id": "2NvhrV6I_IhC"
      },
      "source": [
        "# Identificar tipos de variables, campos perdidos y preproceso básico a realizar"
      ]
    },
    {
      "cell_type": "code",
      "metadata": {
        "id": "U6hrWmR5eFay",
        "colab": {
          "base_uri": "https://localhost:8080/"
        },
        "outputId": "0f7a5610-d9a5-4e69-9978-6927b0c3df64"
      },
      "source": [
        "Xdata.info()"
      ],
      "execution_count": 21,
      "outputs": [
        {
          "output_type": "stream",
          "name": "stdout",
          "text": [
            "<class 'pandas.core.frame.DataFrame'>\n",
            "RangeIndex: 18207 entries, 0 to 18206\n",
            "Data columns (total 82 columns):\n",
            " #   Column                    Non-Null Count  Dtype  \n",
            "---  ------                    --------------  -----  \n",
            " 0   Age                       18207 non-null  int64  \n",
            " 1   Nationality               18207 non-null  object \n",
            " 2   Overall                   18207 non-null  int64  \n",
            " 3   Potential                 18207 non-null  int64  \n",
            " 4   Club                      17966 non-null  object \n",
            " 5   Value                     18207 non-null  object \n",
            " 6   Wage                      18207 non-null  object \n",
            " 7   Special                   18207 non-null  int64  \n",
            " 8   Preferred Foot            18159 non-null  object \n",
            " 9   International Reputation  18159 non-null  float64\n",
            " 10  Weak Foot                 18159 non-null  float64\n",
            " 11  Skill Moves               18159 non-null  float64\n",
            " 12  Work Rate                 18159 non-null  object \n",
            " 13  Body Type                 18159 non-null  object \n",
            " 14  Real Face                 18159 non-null  object \n",
            " 15  Position                  18147 non-null  object \n",
            " 16  Jersey Number             18147 non-null  float64\n",
            " 17  Joined                    16654 non-null  object \n",
            " 18  Contract Valid Until      17918 non-null  object \n",
            " 19  Height                    18159 non-null  object \n",
            " 20  Weight                    18159 non-null  object \n",
            " 21  LS                        16122 non-null  object \n",
            " 22  ST                        16122 non-null  object \n",
            " 23  RS                        16122 non-null  object \n",
            " 24  LW                        16122 non-null  object \n",
            " 25  LF                        16122 non-null  object \n",
            " 26  CF                        16122 non-null  object \n",
            " 27  RF                        16122 non-null  object \n",
            " 28  RW                        16122 non-null  object \n",
            " 29  LAM                       16122 non-null  object \n",
            " 30  CAM                       16122 non-null  object \n",
            " 31  RAM                       16122 non-null  object \n",
            " 32  LM                        16122 non-null  object \n",
            " 33  LCM                       16122 non-null  object \n",
            " 34  CM                        16122 non-null  object \n",
            " 35  RCM                       16122 non-null  object \n",
            " 36  RM                        16122 non-null  object \n",
            " 37  LWB                       16122 non-null  object \n",
            " 38  LDM                       16122 non-null  object \n",
            " 39  CDM                       16122 non-null  object \n",
            " 40  RDM                       16122 non-null  object \n",
            " 41  RWB                       16122 non-null  object \n",
            " 42  LB                        16122 non-null  object \n",
            " 43  LCB                       16122 non-null  object \n",
            " 44  CB                        16122 non-null  object \n",
            " 45  RCB                       16122 non-null  object \n",
            " 46  RB                        16122 non-null  object \n",
            " 47  Crossing                  18159 non-null  float64\n",
            " 48  Finishing                 18159 non-null  float64\n",
            " 49  HeadingAccuracy           18159 non-null  float64\n",
            " 50  ShortPassing              18159 non-null  float64\n",
            " 51  Volleys                   18159 non-null  float64\n",
            " 52  Dribbling                 18159 non-null  float64\n",
            " 53  Curve                     18159 non-null  float64\n",
            " 54  FKAccuracy                18159 non-null  float64\n",
            " 55  LongPassing               18159 non-null  float64\n",
            " 56  BallControl               18159 non-null  float64\n",
            " 57  Acceleration              18159 non-null  float64\n",
            " 58  SprintSpeed               18159 non-null  float64\n",
            " 59  Agility                   18159 non-null  float64\n",
            " 60  Reactions                 18159 non-null  float64\n",
            " 61  Balance                   18159 non-null  float64\n",
            " 62  ShotPower                 18159 non-null  float64\n",
            " 63  Jumping                   18159 non-null  float64\n",
            " 64  Stamina                   18159 non-null  float64\n",
            " 65  Strength                  18159 non-null  float64\n",
            " 66  LongShots                 18159 non-null  float64\n",
            " 67  Aggression                18159 non-null  float64\n",
            " 68  Interceptions             18159 non-null  float64\n",
            " 69  Positioning               18159 non-null  float64\n",
            " 70  Vision                    18159 non-null  float64\n",
            " 71  Penalties                 18159 non-null  float64\n",
            " 72  Composure                 18159 non-null  float64\n",
            " 73  Marking                   18159 non-null  float64\n",
            " 74  StandingTackle            18159 non-null  float64\n",
            " 75  SlidingTackle             18159 non-null  float64\n",
            " 76  GKDiving                  18159 non-null  float64\n",
            " 77  GKHandling                18159 non-null  float64\n",
            " 78  GKKicking                 18159 non-null  float64\n",
            " 79  GKPositioning             18159 non-null  float64\n",
            " 80  GKReflexes                18159 non-null  float64\n",
            " 81  Release Clause            16643 non-null  object \n",
            "dtypes: float64(38), int64(4), object(40)\n",
            "memory usage: 11.4+ MB\n"
          ]
        }
      ]
    },
    {
      "cell_type": "markdown",
      "metadata": {
        "id": "YnmfCo2RzTm8"
      },
      "source": [
        "## Se presentan atributos tipo int, float y texto, algunos de ellos con datos perdidos."
      ]
    },
    {
      "cell_type": "markdown",
      "metadata": {
        "id": "zrC31OMozbX1"
      },
      "source": [
        "# Partición en conjunto de training y testing.\n",
        "\n",
        "## Tips básicos para escoger la estrategia de validación:\n",
        "\n",
        "- Para $N\\geq 5000$ se sugiere realizar entrenamiento hold-out, generando grupos de entrenamiento, validación y evaluación. Los conjuntos de entrenamiento y validación se pueden utilizar para realizar validación cruzada de 10 o 5 folds para determinar el mejor modelo y sus hiperparámetros. No obstante, si la cantidad de datos es muy grande, generalmente se utiliza un único conjunto de entrenamiento y un único conjunto de validación, e.g., modelos de deep learning generalmente utilizan esta estrategia por la gran cantidad de datos disponible.\n",
        "\n",
        "**HoldOut con única partición de entrenamiento, validación y evaluación (training, validation, testing)**\n",
        "\n",
        "![HoldOut](https://github.com/amalvarezme/AnaliticaDatos/blob/master/2_Regresion/HoldOut.png?raw=1)\n",
        "\n",
        "\n",
        "**HoldOut utilizando validación cruzada para definir varios conjuntos de entrenamiento y validación en la búsqueda del mejor modelo con evaluación final en un único conjunto de testing**\n",
        "\n",
        "![grid_search_cross_validation](https://github.com/amalvarezme/AnaliticaDatos/blob/master/2_Regresion/grid_search_cross_validation.png?raw=1)\n",
        "\n",
        "- Se sugiere para $ 30 <N <5000$ realizar validación cruzada o validación cruzada anidad k folds (generalmente se trabaja con k=10 o k = 5), y reportar el desempeño promedio en el conjunto de test a lo largo de las rotaciones. En algunos textos, dado que se los datos se rotan y aparecen al menos una vez en el conjunto de training y una vez en el de testing, se habla solamente de conjuntos de entrenamiento y validación, porque el concepto de datos afuera (testing) se pierde.\n",
        "\n",
        "![kfolds](https://github.com/amalvarezme/AnaliticaDatos/blob/master/2_Regresion/kfolds.png?raw=1)\n",
        "\n",
        "- La validación cruzada anidad es mucho más estricta a la hora de dejar un conjunto de test que no se utiliza para sintonizar los hiperparámetros (a diferencia del kfolds convencional que determina los mejores valores de hiperparametros respecto al conjunto de validación=evaluación). Sin embargo, la extensión anidad es más costosa computacionalmente.\n",
        "\n",
        "\n",
        "![nestedcv](https://github.com/amalvarezme/AnaliticaDatos/blob/master/2_Regresion/nestedcv.png?raw=1)\n",
        "\n",
        "- Para $N \\leq 30$ se sugiere trabajar con validación cruzada fijando el número de particiones igual al número de datos ($k=N$). En este caso, se tiene un conjunto de entrenamiento de $N-1$ y una única muestra de test que se rota $N$ veces (leave-one-out).\n",
        "\n",
        "\n",
        "\n",
        "**Nota**: En este caso se cuenta con una buena cantidad de datos 18.000 aprox., por lo que se realizará una validación hold-out, con 70% de datos para entrenamiento y 30% para evaluación. Sobre el conjunto de entrenamiento se realizará una validación cruzada de 5 folds (k=5) para determinar el mejor modelo e hiperparámetros. \n",
        "\n",
        "Se define el atributo Release Clause como salida."
      ]
    },
    {
      "cell_type": "code",
      "metadata": {
        "id": "mM_si20zfVQz"
      },
      "source": [
        "# Partición entrenamiento y evaluación\n",
        "# Tamaño Xtrain 70%, Tamaño Xtest 30%\n",
        "\n",
        "Xtrain, Xtest = train_test_split(Xdata,test_size=0.3)\n",
        "col_sal = \"Release Clause\"\n",
        "ytrain = Xtrain[col_sal]\n",
        "ytest = Xtest[col_sal]\n",
        "Xtrain.drop(columns=col_sal,inplace=True)\n",
        "Xtest.drop(columns=col_sal,inplace=True)\n"
      ],
      "execution_count": 22,
      "outputs": []
    },
    {
      "cell_type": "markdown",
      "metadata": {
        "id": "xRAlhmGH5hMH"
      },
      "source": [
        "**Nota**: Recuerde que puede usar la partición estratificada para preservar la distribución de la salida de interés en los folds"
      ]
    },
    {
      "cell_type": "markdown",
      "metadata": {
        "id": "_ogS5bI3-Wkf"
      },
      "source": [
        "# Preproceso: completar datos y codificar datos tipo texto\n"
      ]
    },
    {
      "cell_type": "code",
      "metadata": {
        "id": "hHjxl2-2iNzX",
        "colab": {
          "base_uri": "https://localhost:8080/"
        },
        "outputId": "b6785bba-2bdf-4df6-ebe1-0f55ab8f411a"
      },
      "source": [
        "from sklearn.impute import SimpleImputer\n",
        "imputer = SimpleImputer(strategy=\"most_frequent\")#se utiliza estimador de moda\n",
        "ytrain = imputer.fit_transform(pd.DataFrame(ytrain)).reshape(-1)#ajuste sobre la salida\n",
        "ytest = imputer.transform(pd.DataFrame(ytest)).reshape(-1)#evaluar sobre datos de test\n",
        "\n",
        "print(ytrain.shape, ytest.shape)"
      ],
      "execution_count": 23,
      "outputs": [
        {
          "output_type": "stream",
          "name": "stdout",
          "text": [
            "(12744,) (5463,)\n"
          ]
        }
      ]
    },
    {
      "cell_type": "markdown",
      "metadata": {
        "id": "WA68DNCJ-vEg"
      },
      "source": [
        "**Nota**: Dado que la variable de salida esta en formato moneda se debe codificar meidante función particular (custom). También, se creará una función para codificar las variables tipo evolución características del jugador.\n",
        "\n",
        "---\n",
        "\n"
      ]
    },
    {
      "cell_type": "code",
      "metadata": {
        "id": "_ErWPFYnbcfa",
        "colab": {
          "base_uri": "https://localhost:8080/",
          "height": 35
        },
        "outputId": "b946c894-ccb7-4356-cd80-4a4bb343e232"
      },
      "source": [
        "ytrain[0]"
      ],
      "execution_count": 24,
      "outputs": [
        {
          "output_type": "execute_result",
          "data": {
            "application/vnd.google.colaboratory.intrinsic+json": {
              "type": "string"
            },
            "text/plain": [
              "'€380K'"
            ]
          },
          "metadata": {},
          "execution_count": 24
        }
      ]
    },
    {
      "cell_type": "code",
      "metadata": {
        "id": "7LgKYWa0l9xc"
      },
      "source": [
        " #codificar variables moneda\n",
        "def code_euro(y):\n",
        "    yc = np.zeros(y.shape[0])\n",
        "    for i in range(y.shape[0]):\n",
        "        if y[i][-1]=='M': yc[i] = float(y[i][1:-1])*10**6 #buscar M y reemplazar 10^6\n",
        "        elif y[i][-1]=='K': yc[i] = float(y[i][1:-1])*10**3 # buscar K y reemplazar por 10^3\n",
        "        else: yc[i] = float(y[i][1:])\n",
        "    return yc \n",
        "\n",
        "#codificar estadísticas\n",
        "def code_stats(y):\n",
        "    yc = np.zeros(y.shape[0])\n",
        "    for i in range(y.shape[0]):\n",
        "        if y.iloc[i].find(\"+\") > -1: # encontrar signo + en str y casteo a flotante\n",
        "            yc[i] = float(y.iloc[i][:y.iloc[i].find(\"+\")])+float(y.iloc[i][y.iloc[i].find(\"+\")+1:])\n",
        "        else: yc[i] = float(y.iloc[i])\n",
        "    return yc   "
      ],
      "execution_count": 25,
      "outputs": []
    },
    {
      "cell_type": "code",
      "metadata": {
        "id": "_MU_7r93ndmv"
      },
      "source": [
        "#codificar salida\n",
        "ytrain_num = code_euro(ytrain)\n",
        "ytest_num = code_euro(ytest)"
      ],
      "execution_count": 26,
      "outputs": []
    },
    {
      "cell_type": "code",
      "metadata": {
        "id": "IPODsXh8ntmQ",
        "colab": {
          "base_uri": "https://localhost:8080/"
        },
        "outputId": "0b353a0b-87bc-41bf-9929-fda1e123ae10"
      },
      "source": [
        "ytrain_num[:5]"
      ],
      "execution_count": 27,
      "outputs": [
        {
          "output_type": "execute_result",
          "data": {
            "text/plain": [
              "array([  380000.,   680000.,  3000000., 45700000.,  1100000.])"
            ]
          },
          "metadata": {},
          "execution_count": 27
        }
      ]
    },
    {
      "cell_type": "markdown",
      "metadata": {
        "id": "8apkq-qxAX12"
      },
      "source": [
        "## Se definen las variables para codificar utilizando las funciones establecidas de moneda, estadísticas y las tipo texto con OrdinalEncoder y OneHotEncoder."
      ]
    },
    {
      "cell_type": "code",
      "metadata": {
        "id": "7i4yEtRcoC1F"
      },
      "source": [
        "#definir columnas tipo string  para codificar moneda, estadistica fifa y categoricas\n",
        "col_euro = ['Value','Wage'] #variables tipo moneda\n",
        "col_stats = ['LS','ST','RS','LW','LF','CF','RF','RW','LAM',\n",
        "             'CAM','RAM','LM','LCM','CM','RCM','RM','LWB',\n",
        "             'LDM','CDM','RDM','RWB','LB','LCB','CB','RCB','RB']#variables tipo mejora jugadores\n",
        "\n",
        "cat = ['Nationality','Club','Body Type','Position','Preferred Foot',\n",
        "        'Work Rate','Real Face','Contract Valid Until']#variables a codificar OrdinalEncoder y OneHotEncoder\n",
        "items = [] \n",
        "for i in cat:\n",
        "    items += [list(Xdata[i].value_counts().index)]\n",
        "cat_usr = dict(zip(cat, items))#se crean diccionarios con las variables y sus posibles valores"
      ],
      "execution_count": 28,
      "outputs": []
    },
    {
      "cell_type": "code",
      "metadata": {
        "id": "Fhk8i2RTBl7e",
        "colab": {
          "base_uri": "https://localhost:8080/"
        },
        "outputId": "638c6c9a-c3bd-4f28-fe8d-992925c27c2d"
      },
      "source": [
        "Xdata['Nationality'].value_counts()"
      ],
      "execution_count": 29,
      "outputs": [
        {
          "output_type": "execute_result",
          "data": {
            "text/plain": [
              "England        1662\n",
              "Germany        1198\n",
              "Spain          1072\n",
              "Argentina       937\n",
              "France          914\n",
              "               ... \n",
              "Grenada           1\n",
              "Liberia           1\n",
              "Fiji              1\n",
              "South Sudan       1\n",
              "Andorra           1\n",
              "Name: Nationality, Length: 164, dtype: int64"
            ]
          },
          "metadata": {},
          "execution_count": 29
        }
      ]
    },
    {
      "cell_type": "code",
      "metadata": {
        "id": "8sAWcEWyAw89",
        "colab": {
          "base_uri": "https://localhost:8080/"
        },
        "outputId": "94f34508-a9e9-421f-dc19-17f73062a8e1"
      },
      "source": [
        "cat_usr.keys()"
      ],
      "execution_count": 30,
      "outputs": [
        {
          "output_type": "execute_result",
          "data": {
            "text/plain": [
              "dict_keys(['Nationality', 'Club', 'Body Type', 'Position', 'Preferred Foot', 'Work Rate', 'Real Face', 'Contract Valid Until'])"
            ]
          },
          "metadata": {},
          "execution_count": 30
        }
      ]
    },
    {
      "cell_type": "code",
      "metadata": {
        "id": "eDnsPyAddXed",
        "colab": {
          "base_uri": "https://localhost:8080/"
        },
        "outputId": "b317fec7-40fe-43c2-9f7c-5a2baf884bde"
      },
      "source": [
        "cat_usr['Body Type']"
      ],
      "execution_count": 31,
      "outputs": [
        {
          "output_type": "execute_result",
          "data": {
            "text/plain": [
              "['Normal',\n",
              " 'Lean',\n",
              " 'Stocky',\n",
              " 'Messi',\n",
              " 'Neymar',\n",
              " 'PLAYER_BODY_TYPE_25',\n",
              " 'Akinfenwa',\n",
              " 'Shaqiri',\n",
              " 'Courtois',\n",
              " 'C. Ronaldo']"
            ]
          },
          "metadata": {},
          "execution_count": 31
        }
      ]
    },
    {
      "cell_type": "markdown",
      "metadata": {
        "id": "7AzzTDXFYLyU"
      },
      "source": [
        "# Se crea clase propia (custom) para ejecutar el preproceso que sea compatible con scikitlearn"
      ]
    },
    {
      "cell_type": "code",
      "metadata": {
        "id": "L511SbLFq4xM"
      },
      "source": [
        "#%% transformer custom\n",
        "from sklearn.base import BaseEstimator, TransformerMixin #objetos básicos para herencia de clase\n",
        "\n",
        "class mypre_fifa(BaseEstimator,TransformerMixin):\n",
        "    #inicializacion de clase y varaibles\n",
        "    def __init__(self, col_euro,col_stats, cat_usr): #constructor clase\n",
        "        self.col_euro = col_euro #lista atributos tipo moneda\n",
        "        self.col_stats = col_stats #lista atributos tipo estadistica\n",
        "        self.cat_usr = cat_usr #lista de atributos categoricos\n",
        "\n",
        "    def fit(self,X, *_):#función de ajuste -> *_ para indicar que puede recibir más entradas en el pipeline\n",
        "        Xi = X.copy() #copiar dataset para no reemplazar original\n",
        "        self.imputer_num = SimpleImputer(strategy=\"most_frequent\") #crear imputador tipo moda\n",
        "        self.a = Xi.columns[np.sum(Xi.isna())> 0] #encontrar columnas con datos faltantes\n",
        "        self.imputer_num.fit(Xi[self.a]) # ajustar imputador\n",
        "        Xi[self.a] = self.imputer_num.transform(Xi[self.a]) #evaluar datos con el imputador\n",
        "        \n",
        "        for i in self.col_euro: #codificar tipo moneda\n",
        "            Xi[i] = code_euro(np.array(Xi[i]))\n",
        "        \n",
        "        for i in self.col_stats: #codificar datos estadisticos\n",
        "            Xi[i] = code_stats(Xi[i])\n",
        "        \n",
        "        #height, wieght corregir formato\n",
        "        Xi['Height'].replace(regex=[\"'\"], value='.',inplace=True) #reemplaza unidad ' con .       \n",
        "        for i in Xi.index:\n",
        "            Xi.loc[i,'Weight'] = float(Xi.loc[i,'Weight'][:-3])#elimnar unidades \n",
        "            Xi.loc[i,'Height'] = float(Xi.loc[i,'Height'])#eliminar unidades\n",
        "        \n",
        "        Xi['Height'] = Xi['Height'].astype('float64')\n",
        "        Xi['Weight'] = Xi['Weight'].astype('float64')#asegurar formato flotante\n",
        "        \n",
        "        Xi['Joined'] = Xi['Joined'].replace(regex=\"/\",value=\"\")#codificar fecha\n",
        "        Xi['Joined'] = Xi['Joined'].astype('float64')\n",
        "        \n",
        "        cat = [] #codificar variables categoricas con ordinal encoder\n",
        "        for i in self.cat_usr.keys():\n",
        "            cat = cat + [[*self.cat_usr.get(i)]]\n",
        "        self.col_cat_usr = OrdinalEncoder(categories=cat) # OneHotEncoder(categories=cat,sparse=False)\n",
        "        Xi[[*self.cat_usr.keys()]] =self.col_cat_usr.fit_transform(Xi[[*self.cat_usr.keys()]])\n",
        "        #si utilizar OneHotEncoder debe concatenar las columnas resultantes -> ver cuaderno guia lado a lado\n",
        "        \n",
        "        return self    \n",
        "\n",
        "    def transform(self, X, *_):#funcion transformador-> pensando en datos nuevos\n",
        "        Xi = X.copy()\n",
        "        Xi[self.a] = self.imputer_num.transform(Xi[self.a])\n",
        "        \n",
        "        for i in self.col_euro:\n",
        "            Xi[i] = code_euro(np.array(Xi[i]))\n",
        "        for i in self.col_stats:\n",
        "            Xi[i] = code_stats(Xi[i])\n",
        "        \n",
        "                #height, wieght\n",
        "        Xi['Height'].replace(regex=[\"'\"], value='.',inplace=True)        \n",
        "        for i in Xi.index:\n",
        "            Xi.loc[i,'Weight'] = float(Xi.loc[i,'Weight'][:-3])\n",
        "            Xi.loc[i,'Height'] = float(Xi.loc[i,'Height'])\n",
        "        \n",
        "        Xi['Height'] = Xi['Height'].astype('float64')\n",
        "        Xi['Weight'] = Xi['Weight'].astype('float64')\n",
        "            \n",
        "        Xi['Joined'] = Xi['Joined'].replace(regex=\"/\",value=\"\")\n",
        "        Xi['Joined'] = Xi['Joined'].astype('float64')\n",
        "        \n",
        "        Xi[[*self.cat_usr.keys()]] =self.col_cat_usr.transform(Xi[[*self.cat_usr.keys()]])\n",
        "        return Xi\n",
        "    \n",
        "    def fit_transform(self,X,*_):#ajustar y transformar en cascada\n",
        "        self.fit(X)\n",
        "        return self.transform(X)"
      ],
      "execution_count": 32,
      "outputs": []
    },
    {
      "cell_type": "code",
      "metadata": {
        "id": "e6vm9wF_q_8E",
        "outputId": "4ce01031-d894-4c4e-9ddb-3aba0be6c301",
        "colab": {
          "base_uri": "https://localhost:8080/",
          "height": 323
        }
      },
      "source": [
        "mypre = mypre_fifa(col_euro=col_euro,col_stats=col_stats,cat_usr = cat_usr)\n",
        "Xtrain_pre = mypre.fit_transform(Xtrain)"
      ],
      "execution_count": 33,
      "outputs": [
        {
          "output_type": "error",
          "ename": "KeyboardInterrupt",
          "evalue": "ignored",
          "traceback": [
            "\u001b[0;31m---------------------------------------------------------------------------\u001b[0m",
            "\u001b[0;31mKeyboardInterrupt\u001b[0m                         Traceback (most recent call last)",
            "\u001b[0;32m<ipython-input-33-016aa2fde8eb>\u001b[0m in \u001b[0;36m<module>\u001b[0;34m()\u001b[0m\n\u001b[1;32m      1\u001b[0m \u001b[0mmypre\u001b[0m \u001b[0;34m=\u001b[0m \u001b[0mmypre_fifa\u001b[0m\u001b[0;34m(\u001b[0m\u001b[0mcol_euro\u001b[0m\u001b[0;34m=\u001b[0m\u001b[0mcol_euro\u001b[0m\u001b[0;34m,\u001b[0m\u001b[0mcol_stats\u001b[0m\u001b[0;34m=\u001b[0m\u001b[0mcol_stats\u001b[0m\u001b[0;34m,\u001b[0m\u001b[0mcat_usr\u001b[0m \u001b[0;34m=\u001b[0m \u001b[0mcat_usr\u001b[0m\u001b[0;34m)\u001b[0m\u001b[0;34m\u001b[0m\u001b[0;34m\u001b[0m\u001b[0m\n\u001b[0;32m----> 2\u001b[0;31m \u001b[0mXtrain_pre\u001b[0m \u001b[0;34m=\u001b[0m \u001b[0mmypre\u001b[0m\u001b[0;34m.\u001b[0m\u001b[0mfit_transform\u001b[0m\u001b[0;34m(\u001b[0m\u001b[0mXtrain\u001b[0m\u001b[0;34m)\u001b[0m\u001b[0;34m\u001b[0m\u001b[0;34m\u001b[0m\u001b[0m\n\u001b[0m",
            "\u001b[0;32m<ipython-input-32-3acad0f96f9f>\u001b[0m in \u001b[0;36mfit_transform\u001b[0;34m(self, X, *_)\u001b[0m\n\u001b[1;32m     68\u001b[0m \u001b[0;34m\u001b[0m\u001b[0m\n\u001b[1;32m     69\u001b[0m     \u001b[0;32mdef\u001b[0m \u001b[0mfit_transform\u001b[0m\u001b[0;34m(\u001b[0m\u001b[0mself\u001b[0m\u001b[0;34m,\u001b[0m\u001b[0mX\u001b[0m\u001b[0;34m,\u001b[0m\u001b[0;34m*\u001b[0m\u001b[0m_\u001b[0m\u001b[0;34m)\u001b[0m\u001b[0;34m:\u001b[0m\u001b[0;31m#ajustar y transformar en cascada\u001b[0m\u001b[0;34m\u001b[0m\u001b[0;34m\u001b[0m\u001b[0m\n\u001b[0;32m---> 70\u001b[0;31m         \u001b[0mself\u001b[0m\u001b[0;34m.\u001b[0m\u001b[0mfit\u001b[0m\u001b[0;34m(\u001b[0m\u001b[0mX\u001b[0m\u001b[0;34m)\u001b[0m\u001b[0;34m\u001b[0m\u001b[0;34m\u001b[0m\u001b[0m\n\u001b[0m\u001b[1;32m     71\u001b[0m         \u001b[0;32mreturn\u001b[0m \u001b[0mself\u001b[0m\u001b[0;34m.\u001b[0m\u001b[0mtransform\u001b[0m\u001b[0;34m(\u001b[0m\u001b[0mX\u001b[0m\u001b[0;34m)\u001b[0m\u001b[0;34m\u001b[0m\u001b[0;34m\u001b[0m\u001b[0m\n",
            "\u001b[0;32m<ipython-input-32-3acad0f96f9f>\u001b[0m in \u001b[0;36mfit\u001b[0;34m(self, X, *_)\u001b[0m\n\u001b[1;32m     20\u001b[0m \u001b[0;34m\u001b[0m\u001b[0m\n\u001b[1;32m     21\u001b[0m         \u001b[0;32mfor\u001b[0m \u001b[0mi\u001b[0m \u001b[0;32min\u001b[0m \u001b[0mself\u001b[0m\u001b[0;34m.\u001b[0m\u001b[0mcol_stats\u001b[0m\u001b[0;34m:\u001b[0m \u001b[0;31m#codificar datos estadisticos\u001b[0m\u001b[0;34m\u001b[0m\u001b[0;34m\u001b[0m\u001b[0m\n\u001b[0;32m---> 22\u001b[0;31m             \u001b[0mXi\u001b[0m\u001b[0;34m[\u001b[0m\u001b[0mi\u001b[0m\u001b[0;34m]\u001b[0m \u001b[0;34m=\u001b[0m \u001b[0mcode_stats\u001b[0m\u001b[0;34m(\u001b[0m\u001b[0mXi\u001b[0m\u001b[0;34m[\u001b[0m\u001b[0mi\u001b[0m\u001b[0;34m]\u001b[0m\u001b[0;34m)\u001b[0m\u001b[0;34m\u001b[0m\u001b[0;34m\u001b[0m\u001b[0m\n\u001b[0m\u001b[1;32m     23\u001b[0m \u001b[0;34m\u001b[0m\u001b[0m\n\u001b[1;32m     24\u001b[0m         \u001b[0;31m#height, wieght corregir formato\u001b[0m\u001b[0;34m\u001b[0m\u001b[0;34m\u001b[0m\u001b[0;34m\u001b[0m\u001b[0m\n",
            "\u001b[0;32m<ipython-input-25-c92918ee989a>\u001b[0m in \u001b[0;36mcode_stats\u001b[0;34m(y)\u001b[0m\n\u001b[1;32m     13\u001b[0m    \u001b[0;32mfor\u001b[0m \u001b[0mi\u001b[0m \u001b[0;32min\u001b[0m \u001b[0mrange\u001b[0m\u001b[0;34m(\u001b[0m\u001b[0my\u001b[0m\u001b[0;34m.\u001b[0m\u001b[0mshape\u001b[0m\u001b[0;34m[\u001b[0m\u001b[0;36m0\u001b[0m\u001b[0;34m]\u001b[0m\u001b[0;34m)\u001b[0m\u001b[0;34m:\u001b[0m\u001b[0;34m\u001b[0m\u001b[0;34m\u001b[0m\u001b[0m\n\u001b[1;32m     14\u001b[0m        \u001b[0;32mif\u001b[0m \u001b[0my\u001b[0m\u001b[0;34m.\u001b[0m\u001b[0miloc\u001b[0m\u001b[0;34m[\u001b[0m\u001b[0mi\u001b[0m\u001b[0;34m]\u001b[0m\u001b[0;34m.\u001b[0m\u001b[0mfind\u001b[0m\u001b[0;34m(\u001b[0m\u001b[0;34m\"+\"\u001b[0m\u001b[0;34m)\u001b[0m \u001b[0;34m>\u001b[0m \u001b[0;34m-\u001b[0m\u001b[0;36m1\u001b[0m\u001b[0;34m:\u001b[0m \u001b[0;31m# encontrar signo + en str y casteo a flotante\u001b[0m\u001b[0;34m\u001b[0m\u001b[0;34m\u001b[0m\u001b[0m\n\u001b[0;32m---> 15\u001b[0;31m            \u001b[0myc\u001b[0m\u001b[0;34m[\u001b[0m\u001b[0mi\u001b[0m\u001b[0;34m]\u001b[0m \u001b[0;34m=\u001b[0m \u001b[0mfloat\u001b[0m\u001b[0;34m(\u001b[0m\u001b[0my\u001b[0m\u001b[0;34m.\u001b[0m\u001b[0miloc\u001b[0m\u001b[0;34m[\u001b[0m\u001b[0mi\u001b[0m\u001b[0;34m]\u001b[0m\u001b[0;34m[\u001b[0m\u001b[0;34m:\u001b[0m\u001b[0my\u001b[0m\u001b[0;34m.\u001b[0m\u001b[0miloc\u001b[0m\u001b[0;34m[\u001b[0m\u001b[0mi\u001b[0m\u001b[0;34m]\u001b[0m\u001b[0;34m.\u001b[0m\u001b[0mfind\u001b[0m\u001b[0;34m(\u001b[0m\u001b[0;34m\"+\"\u001b[0m\u001b[0;34m)\u001b[0m\u001b[0;34m]\u001b[0m\u001b[0;34m)\u001b[0m\u001b[0;34m+\u001b[0m\u001b[0mfloat\u001b[0m\u001b[0;34m(\u001b[0m\u001b[0my\u001b[0m\u001b[0;34m.\u001b[0m\u001b[0miloc\u001b[0m\u001b[0;34m[\u001b[0m\u001b[0mi\u001b[0m\u001b[0;34m]\u001b[0m\u001b[0;34m[\u001b[0m\u001b[0my\u001b[0m\u001b[0;34m.\u001b[0m\u001b[0miloc\u001b[0m\u001b[0;34m[\u001b[0m\u001b[0mi\u001b[0m\u001b[0;34m]\u001b[0m\u001b[0;34m.\u001b[0m\u001b[0mfind\u001b[0m\u001b[0;34m(\u001b[0m\u001b[0;34m\"+\"\u001b[0m\u001b[0;34m)\u001b[0m\u001b[0;34m+\u001b[0m\u001b[0;36m1\u001b[0m\u001b[0;34m:\u001b[0m\u001b[0;34m]\u001b[0m\u001b[0;34m)\u001b[0m\u001b[0;34m\u001b[0m\u001b[0;34m\u001b[0m\u001b[0m\n\u001b[0m\u001b[1;32m     16\u001b[0m        \u001b[0;32melse\u001b[0m\u001b[0;34m:\u001b[0m \u001b[0myc\u001b[0m\u001b[0;34m[\u001b[0m\u001b[0mi\u001b[0m\u001b[0;34m]\u001b[0m \u001b[0;34m=\u001b[0m \u001b[0mfloat\u001b[0m\u001b[0;34m(\u001b[0m\u001b[0my\u001b[0m\u001b[0;34m.\u001b[0m\u001b[0miloc\u001b[0m\u001b[0;34m[\u001b[0m\u001b[0mi\u001b[0m\u001b[0;34m]\u001b[0m\u001b[0;34m)\u001b[0m\u001b[0;34m\u001b[0m\u001b[0;34m\u001b[0m\u001b[0m\n\u001b[1;32m     17\u001b[0m    \u001b[0;32mreturn\u001b[0m \u001b[0myc\u001b[0m\u001b[0;34m\u001b[0m\u001b[0;34m\u001b[0m\u001b[0m\n",
            "\u001b[0;31mKeyboardInterrupt\u001b[0m: "
          ]
        }
      ]
    },
    {
      "cell_type": "markdown",
      "metadata": {
        "id": "SmDDvZweDU-B"
      },
      "source": [
        "**Nota**: Recuerde que ninguna etapa del proceso puede utilizar los datos de test para sintonizar parámetros."
      ]
    },
    {
      "cell_type": "code",
      "metadata": {
        "id": "scFQR2V6mXPA"
      },
      "source": [
        "Xtest_pre = mypre.transform(Xtest) #no se puede fit solo transform-> parámetros ajustados sobre Xtrain"
      ],
      "execution_count": null,
      "outputs": []
    },
    {
      "cell_type": "code",
      "metadata": {
        "id": "ir2sCB3lfQsc"
      },
      "source": [
        "Xtrain_pre.info()"
      ],
      "execution_count": null,
      "outputs": []
    },
    {
      "cell_type": "markdown",
      "metadata": {
        "id": "FYANuI5WDgeH"
      },
      "source": [
        "Las variables fueron codificadas $X_{train}\\in\\mathbb{R}^{N \\times P}$"
      ]
    },
    {
      "cell_type": "markdown",
      "metadata": {
        "id": "m9ZSblP8Do1d"
      },
      "source": [
        "# Se realiza análisis exploratorio básico"
      ]
    },
    {
      "cell_type": "code",
      "metadata": {
        "id": "izTxZ1_vgfgZ"
      },
      "source": [
        "corr_matrix = Xtrain_pre.corr()#matriz de correlación\n",
        "corr_matrix.style.background_gradient(cmap='coolwarm')"
      ],
      "execution_count": null,
      "outputs": []
    },
    {
      "cell_type": "markdown",
      "metadata": {
        "id": "5Xg6WYtMD8HF"
      },
      "source": [
        "# Ejercicio 1:\n",
        "\n",
        "1. Qué puede discutir sobre las correlaciones cálculadas?\n",
        "\n",
        "2. Cuáles son los atributos que presentan una relación lineal más fuerte con la variable de salida?\n",
        "\n"
      ]
    },
    {
      "cell_type": "markdown",
      "metadata": {
        "id": "izyotmDxQ6B6"
      },
      "source": [
        "##1.1 \n",
        "....................................Explicar matriz de correlación..........."
      ]
    },
    {
      "cell_type": "markdown",
      "metadata": {
        "id": "VTcNvvy0SZ8I"
      },
      "source": [
        "##1.2\n"
      ]
    },
    {
      "cell_type": "code",
      "metadata": {
        "id": "dLNhVRkTQElQ"
      },
      "source": [
        "#calculo de matriz de correlación incluyendo la salida\n",
        "Xtrain_pre2 = Xtrain_pre.copy()\n",
        "Xtrain_pre2['output'] = ytrain_num  #PAra agregar la salida a la matriz de variables\n",
        "corr_matrix2 = Xtrain_pre2.corr()#matriz de correlación\n",
        "corr_matrix2.style.background_gradient(cmap='coolwarm')\n",
        "\n",
        "#Cuál tiene mayor correlación con la salida\n",
        "abs(corr_matrix2[\"output\"]).sort_values(ascending=False)"
      ],
      "execution_count": null,
      "outputs": []
    },
    {
      "cell_type": "markdown",
      "metadata": {
        "id": "Ekpm0ZfxqMbG"
      },
      "source": [
        "# Ejercicio 2:\n",
        "\n",
        "Sobre los datos preprocesados de entrenamiento presente las gráficas de histograma, dispersión (scatter matrix) y diagramas de caja para la salida y al menos tres atirbutos de entrada, teniendo en cuenta: i) datos preprocesados, ii) datos preprocesados más StandardScaler, iii) datos preprocesados más MinMaxScaler.\n",
        "\n",
        "**Nota**: se presentan algunas líneas de código de ayuda."
      ]
    },
    {
      "cell_type": "markdown",
      "metadata": {
        "id": "chT2wks6TZ8B"
      },
      "source": [
        "## i) con datos Preprocesados"
      ]
    },
    {
      "cell_type": "code",
      "metadata": {
        "id": "o_iXCwJeFfid"
      },
      "source": [
        "\n",
        "Xtrain_pre.columns #atributos disponibles"
      ],
      "execution_count": null,
      "outputs": []
    },
    {
      "cell_type": "code",
      "metadata": {
        "id": "IJiT2G9dwsZh"
      },
      "source": [
        "Xm =pd.DataFrame(Xtrain_pre[['Value','Wage','Overall']],columns=['Value','Wage','Overall'])#definir pandas con atributos seleccionados\n",
        "Xm['Output'] = ytrain_num #agregar salida"
      ],
      "execution_count": null,
      "outputs": []
    },
    {
      "cell_type": "code",
      "metadata": {
        "id": "BC-CasFdF3rp"
      },
      "source": [
        "from pandas.plotting import scatter_matrix\n",
        "\n",
        "Xm.boxplot()#grafica de caja\n",
        "plt.show()\n",
        "scatter_matrix(Xm, figsize=(12, 8)) #scatter con histogramas\n",
        "plt.tight_layout()\n",
        "plt.show()"
      ],
      "execution_count": null,
      "outputs": []
    },
    {
      "cell_type": "markdown",
      "metadata": {
        "id": "lT48ExLZUCwa"
      },
      "source": [
        "## ii) Con MinMaxScaler"
      ]
    },
    {
      "cell_type": "code",
      "metadata": {
        "id": "6bKPr_yuxlXU"
      },
      "source": [
        "from sklearn.preprocessing import MinMaxScaler\n",
        "#scaler = StandardScaler()\n",
        "scaler = MinMaxScaler()\n",
        "\n",
        "Xm_pre_sca = pd.DataFrame(scaler.fit_transform(Xm),columns=Xm.columns)\n",
        "Xm_pre_sca.boxplot()#grafica de caja\n",
        "plt.show()\n",
        "scatter_matrix(Xm_pre_sca, figsize=(12, 8)) #scatter con histogramas\n",
        "plt.tight_layout()\n",
        "plt.show()\n"
      ],
      "execution_count": null,
      "outputs": []
    },
    {
      "cell_type": "markdown",
      "metadata": {
        "id": "Vv2LmbJbUKgB"
      },
      "source": [
        "## iii) Con StandardScaler"
      ]
    },
    {
      "cell_type": "code",
      "metadata": {
        "id": "mWSHFSHVUOoE"
      },
      "source": [
        "from sklearn.preprocessing import StandardScaler\n",
        "scaler = StandardScaler()\n",
        "#scaler = MinMaxScaler()\n",
        "\n",
        "Xm_pre_sca = pd.DataFrame(scaler.fit_transform(Xm),columns=Xm.columns)\n",
        "Xm_pre_sca.boxplot()#grafica de caja\n",
        "plt.show()\n",
        "scatter_matrix(Xm_pre_sca, figsize=(12, 8)) #scatter con histogramas\n",
        "plt.tight_layout()\n",
        "plt.show()"
      ],
      "execution_count": null,
      "outputs": []
    },
    {
      "cell_type": "markdown",
      "metadata": {
        "id": "8N51EkyMNL-K"
      },
      "source": [
        "# Se define pipeline para entrenar un modelo de regresión\n",
        "\n",
        "**Nota:** Se sugiere utilizar un preproceso de normalización tipo StandardScaler o MinMaxScaler para evitar problemas de escala a la hora de identificar los patrones de interés.\n"
      ]
    },
    {
      "cell_type": "markdown",
      "metadata": {
        "id": "8vuC7dShGaGe"
      },
      "source": [
        "A continuación se genera pipeline completo inlcuyendo preproceso custom, standardscaler y modelo de regresión lineal por mínimos cuadrados."
      ]
    },
    {
      "cell_type": "code",
      "metadata": {
        "id": "ZzSaOdfipj0f"
      },
      "source": [
        "from sklearn.pipeline import Pipeline\n",
        "from sklearn.linear_model import LinearRegression\n",
        "from sklearn.preprocessing import StandardScaler\n",
        "steps = [('preproceso',mypre_fifa(col_euro=col_euro,col_stats=col_stats,cat_usr = cat_usr)), \n",
        "         ('scaler', StandardScaler()),\n",
        "         ('regresion',LinearRegression())\n",
        "         ]\n",
        "metodo_full = Pipeline(steps=steps)\n",
        "metodo_full.fit(Xtrain,ytrain_num) #entrena todos los pasos"
      ],
      "execution_count": null,
      "outputs": []
    },
    {
      "cell_type": "code",
      "metadata": {
        "id": "SEfIsVM4r9Vt"
      },
      "source": [
        "ytest_e = metodo_full.predict(Xtest) #se evalua el desempeño en el conjunto de test\n"
      ],
      "execution_count": null,
      "outputs": []
    },
    {
      "cell_type": "markdown",
      "metadata": {
        "id": "EHNNoAX_Gt16"
      },
      "source": [
        "Se grafican salida original y las predicciones"
      ]
    },
    {
      "cell_type": "code",
      "metadata": {
        "id": "sY17CQi0tFcY"
      },
      "source": [
        "plt.plot(ytest_num,label='original')\n",
        "plt.plot(ytest_e,'r',label='estimado')\n",
        "\n",
        "plt.legend()\n",
        "plt.show()"
      ],
      "execution_count": null,
      "outputs": []
    },
    {
      "cell_type": "code",
      "metadata": {
        "id": "yxxjCksUyiOt"
      },
      "source": [
        "plt.scatter(ytest_num,ytest_e)\n",
        "plt.xlabel('ytest')\n",
        "plt.ylabel('ytest_e')\n",
        "plt.show()"
      ],
      "execution_count": null,
      "outputs": []
    },
    {
      "cell_type": "markdown",
      "metadata": {
        "id": "JLAvnq4mHFRl"
      },
      "source": [
        "# Ejercicio 3\n",
        "\n",
        "1. Utilizando el método steps del pipeline, realice una gráfica de las cargas (pesos) del modelo lineal entrenado. Qué puede discutir al respecto?\n",
        "\n",
        "2. Consulte y presente el modelo y problema de optimización de los siguientes regresores:\n",
        "\n",
        " - [LinearRegresor](https://scikit-learn.org/stable/modules/generated/sklearn.linear_model.LinearRegression.html)\n",
        " - [Lasso](https://scikit-learn.org/stable/modules/generated/sklearn.linear_model.Lasso.html)\n",
        " - [ElasticNet](https://scikit-learn.org/stable/modules/generated/sklearn.linear_model.ElasticNet.html)\n",
        " - [KernelRidge](https://scikit-learn.org/stable/modules/generated/sklearn.kernel_ridge.KernelRidge.html)\n",
        " - [SGDRegressor](https://scikit-learn.org/stable/modules/generated/sklearn.linear_model.SGDRegressor.html)\n",
        " - [BayesianRidge](https://scikit-learn.org/stable/modules/linear_model.html#bayesian-ridge-regression)\n",
        "\n",
        "3. Utilizando un esquema de validación cruzada de 5 folds sobre el conjunto de entrenamiento preprocesado, compare el rendimiento en el conjunto de test de los regresores del punto 2. fijando el score del [gridsearch](https://scikit-learn.org/stable/modules/generated/sklearn.model_selection.GridSearchCV.html) en términos del error absoluto medio y el error cuádratico medio. Justifique los hiperparámetros a buscar y la rejilla de valores escogida para cada algoritmo según los modelos estudiados en clase y las respuestas del punto 2. Para el caso del kernelRidge se sugiere trabajar sobre un conjunto de train de 5000 puntos para evitar problemas de memoría en los cálculos de la matriz kernel (presente los resultados para kernel ridge utilizando una función rbf).\n",
        "\n"
      ]
    },
    {
      "cell_type": "code",
      "metadata": {
        "id": "zWOo3Vsqlgfy"
      },
      "source": [
        "metodo_full.steps[2][1].coef_.shape"
      ],
      "execution_count": null,
      "outputs": []
    },
    {
      "cell_type": "code",
      "metadata": {
        "id": "150Zl8lCKeTV"
      },
      "source": [
        "metodo_full.steps[2][1]"
      ],
      "execution_count": null,
      "outputs": []
    },
    {
      "cell_type": "code",
      "metadata": {
        "id": "CKJqo8XdIkHu"
      },
      "source": [
        "#Ayuda punto 1:\n",
        "#el pipeline contiene el método steps codificando los elementos del proceso. \n",
        "#En este caso el regresor esta en la posición 2 y en la 1 de la tupla arrojada\n",
        "#Revisando la documentación de LinearRegression, el atributo coef_ contiene las cargas del modelo\n",
        "plt.stem(abs(metodo_full.steps[2][1].coef_))\n",
        "plt.xlabel('atributo')\n",
        "plt.ylabel('$w_j$')\n",
        "plt.show()"
      ],
      "execution_count": null,
      "outputs": []
    },
    {
      "cell_type": "code",
      "metadata": {
        "id": "Y3qeSCq_Ryuj"
      },
      "source": [
        "#Ayuda punto 2 y 3\n",
        "#Dado que el preproceso no cambia, se sugiera generar el pipeline sin mypre_fifa para ahorrar tiempo\n",
        "steps = [('scaler', StandardScaler()), #ajustar según ejercicio\n",
        "         ('regresion',LinearRegression()) #ajustar según ejercicio\n",
        "         ]\n",
        "metodo_gs = Pipeline(steps=steps) #pipeline a utilizar en el gridsearch\n",
        "#Recuerde realizar el fit del gridsearch sobre las matrices de entrada y vector de salida preprocesados\n",
        "#Xtrain_pre ytrain_num\n"
      ],
      "execution_count": null,
      "outputs": []
    },
    {
      "cell_type": "code",
      "metadata": {
        "id": "9gZ4kX-IIqhc"
      },
      "source": [
        ""
      ],
      "execution_count": null,
      "outputs": []
    }
  ]
}